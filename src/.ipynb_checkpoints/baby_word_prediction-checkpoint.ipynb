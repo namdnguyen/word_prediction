{
 "cells": [
  {
   "cell_type": "markdown",
   "metadata": {},
   "source": [
    "## Install and load packages"
   ]
  },
  {
   "cell_type": "code",
   "execution_count": 1,
   "metadata": {},
   "outputs": [
    {
     "name": "stderr",
     "output_type": "stream",
     "text": [
      "\n",
      "Attaching package: 'dplyr'\n",
      "\n",
      "The following objects are masked from 'package:stats':\n",
      "\n",
      "    filter, lag\n",
      "\n",
      "The following objects are masked from 'package:base':\n",
      "\n",
      "    intersect, setdiff, setequal, union\n",
      "\n"
     ]
    }
   ],
   "source": [
    "# install.packages(\"devtools\")\n",
    "# devtools::install_github(\"langcog/wordbankr\")\n",
    "library(\"dplyr\")\n",
    "library(\"wordbankr\")\n",
    "library(\"stringr\")\n",
    "library(\"ggplot2\")"
   ]
  },
  {
   "cell_type": "code",
   "execution_count": 2,
   "metadata": {},
   "outputs": [
    {
     "data": {
      "text/html": [
       "<ol class=list-inline>\n",
       "\t<li>'fit_aoa'</li>\n",
       "\t<li>'get_administration_data'</li>\n",
       "\t<li>'get_crossling_data'</li>\n",
       "\t<li>'get_crossling_items'</li>\n",
       "\t<li>'get_instrument_data'</li>\n",
       "\t<li>'get_instruments'</li>\n",
       "\t<li>'get_item_data'</li>\n",
       "\t<li>'get_source_data'</li>\n",
       "\t<li>'summarise_items'</li>\n",
       "</ol>\n"
      ],
      "text/latex": [
       "\\begin{enumerate*}\n",
       "\\item 'fit\\_aoa'\n",
       "\\item 'get\\_administration\\_data'\n",
       "\\item 'get\\_crossling\\_data'\n",
       "\\item 'get\\_crossling\\_items'\n",
       "\\item 'get\\_instrument\\_data'\n",
       "\\item 'get\\_instruments'\n",
       "\\item 'get\\_item\\_data'\n",
       "\\item 'get\\_source\\_data'\n",
       "\\item 'summarise\\_items'\n",
       "\\end{enumerate*}\n"
      ],
      "text/markdown": [
       "1. 'fit_aoa'\n",
       "2. 'get_administration_data'\n",
       "3. 'get_crossling_data'\n",
       "4. 'get_crossling_items'\n",
       "5. 'get_instrument_data'\n",
       "6. 'get_instruments'\n",
       "7. 'get_item_data'\n",
       "8. 'get_source_data'\n",
       "9. 'summarise_items'\n",
       "\n",
       "\n"
      ],
      "text/plain": [
       "[1] \"fit_aoa\"                 \"get_administration_data\"\n",
       "[3] \"get_crossling_data\"      \"get_crossling_items\"    \n",
       "[5] \"get_instrument_data\"     \"get_instruments\"        \n",
       "[7] \"get_item_data\"           \"get_source_data\"        \n",
       "[9] \"summarise_items\"        "
      ]
     },
     "metadata": {},
     "output_type": "display_data"
    }
   ],
   "source": [
    "ls(\"package:wordbankr\")"
   ]
  },
  {
   "cell_type": "code",
   "execution_count": 3,
   "metadata": {
    "collapsed": true
   },
   "outputs": [],
   "source": [
    "admins <- \n",
    "  get_administration_data() %>%\n",
    "  select(data_id, age, language, form)\n",
    "\n",
    "items <- \n",
    "  get_item_data() %>%\n",
    "  mutate(num_item_id = as.numeric(substr(item_id, 6, nchar(item_id))),\n",
    "         definition = tolower(definition))\n",
    "\n",
    "words <- \n",
    "  items %>%\n",
    "  filter(type == \"word\", !is.na(uni_lemma), form == \"WG\")"
   ]
  },
  {
   "cell_type": "code",
   "execution_count": 4,
   "metadata": {},
   "outputs": [
    {
     "data": {
      "text/html": [
       "<ol class=list-inline>\n",
       "\t<li>'Croatian'</li>\n",
       "\t<li>'German'</li>\n",
       "\t<li>'Russian'</li>\n",
       "\t<li>'Swedish'</li>\n",
       "\t<li>'Turkish'</li>\n",
       "\t<li>'Danish'</li>\n",
       "\t<li>'French (Quebec)'</li>\n",
       "\t<li>'English (American)'</li>\n",
       "\t<li>'Spanish'</li>\n",
       "\t<li>'Italian'</li>\n",
       "\t<li>'Norwegian'</li>\n",
       "\t<li>'Cantonese'</li>\n",
       "\t<li>'Mandarin'</li>\n",
       "\t<li>'Hebrew'</li>\n",
       "\t<li>'British Sign Language'</li>\n",
       "\t<li>'Slovak'</li>\n",
       "\t<li>'English (British)'</li>\n",
       "\t<li>'American Sign Language'</li>\n",
       "\t<li>'Cypriot Greek'</li>\n",
       "\t<li>'Kigiriama'</li>\n",
       "\t<li>'Kiswahili'</li>\n",
       "\t<li>'Czech'</li>\n",
       "\t<li>'English (Australian)'</li>\n",
       "\t<li>'Latvian'</li>\n",
       "\t<li>'Korean'</li>\n",
       "</ol>\n"
      ],
      "text/latex": [
       "\\begin{enumerate*}\n",
       "\\item 'Croatian'\n",
       "\\item 'German'\n",
       "\\item 'Russian'\n",
       "\\item 'Swedish'\n",
       "\\item 'Turkish'\n",
       "\\item 'Danish'\n",
       "\\item 'French (Quebec)'\n",
       "\\item 'English (American)'\n",
       "\\item 'Spanish'\n",
       "\\item 'Italian'\n",
       "\\item 'Norwegian'\n",
       "\\item 'Cantonese'\n",
       "\\item 'Mandarin'\n",
       "\\item 'Hebrew'\n",
       "\\item 'British Sign Language'\n",
       "\\item 'Slovak'\n",
       "\\item 'English (British)'\n",
       "\\item 'American Sign Language'\n",
       "\\item 'Cypriot Greek'\n",
       "\\item 'Kigiriama'\n",
       "\\item 'Kiswahili'\n",
       "\\item 'Czech'\n",
       "\\item 'English (Australian)'\n",
       "\\item 'Latvian'\n",
       "\\item 'Korean'\n",
       "\\end{enumerate*}\n"
      ],
      "text/markdown": [
       "1. 'Croatian'\n",
       "2. 'German'\n",
       "3. 'Russian'\n",
       "4. 'Swedish'\n",
       "5. 'Turkish'\n",
       "6. 'Danish'\n",
       "7. 'French (Quebec)'\n",
       "8. 'English (American)'\n",
       "9. 'Spanish'\n",
       "10. 'Italian'\n",
       "11. 'Norwegian'\n",
       "12. 'Cantonese'\n",
       "13. 'Mandarin'\n",
       "14. 'Hebrew'\n",
       "15. 'British Sign Language'\n",
       "16. 'Slovak'\n",
       "17. 'English (British)'\n",
       "18. 'American Sign Language'\n",
       "19. 'Cypriot Greek'\n",
       "20. 'Kigiriama'\n",
       "21. 'Kiswahili'\n",
       "22. 'Czech'\n",
       "23. 'English (Australian)'\n",
       "24. 'Latvian'\n",
       "25. 'Korean'\n",
       "\n",
       "\n"
      ],
      "text/plain": [
       " [1] \"Croatian\"               \"German\"                 \"Russian\"               \n",
       " [4] \"Swedish\"                \"Turkish\"                \"Danish\"                \n",
       " [7] \"French (Quebec)\"        \"English (American)\"     \"Spanish\"               \n",
       "[10] \"Italian\"                \"Norwegian\"              \"Cantonese\"             \n",
       "[13] \"Mandarin\"               \"Hebrew\"                 \"British Sign Language\" \n",
       "[16] \"Slovak\"                 \"English (British)\"      \"American Sign Language\"\n",
       "[19] \"Cypriot Greek\"          \"Kigiriama\"              \"Kiswahili\"             \n",
       "[22] \"Czech\"                  \"English (Australian)\"   \"Latvian\"               \n",
       "[25] \"Korean\"                "
      ]
     },
     "metadata": {},
     "output_type": "display_data"
    }
   ],
   "source": [
    "unique(items$language)"
   ]
  },
  {
   "cell_type": "code",
   "execution_count": 5,
   "metadata": {},
   "outputs": [
    {
     "data": {
      "text/html": [
       "<ol class=list-inline>\n",
       "\t<li>27387</li>\n",
       "\t<li>11</li>\n",
       "</ol>\n"
      ],
      "text/latex": [
       "\\begin{enumerate*}\n",
       "\\item 27387\n",
       "\\item 11\n",
       "\\end{enumerate*}\n"
      ],
      "text/markdown": [
       "1. 27387\n",
       "2. 11\n",
       "\n",
       "\n"
      ],
      "text/plain": [
       "[1] 27387    11"
      ]
     },
     "metadata": {},
     "output_type": "display_data"
    }
   ],
   "source": [
    "dim(items)"
   ]
  },
  {
   "cell_type": "code",
   "execution_count": 6,
   "metadata": {},
   "outputs": [
    {
     "data": {
      "text/html": [
       "<ol class=list-inline>\n",
       "\t<li>5150</li>\n",
       "\t<li>11</li>\n",
       "</ol>\n"
      ],
      "text/latex": [
       "\\begin{enumerate*}\n",
       "\\item 5150\n",
       "\\item 11\n",
       "\\end{enumerate*}\n"
      ],
      "text/markdown": [
       "1. 5150\n",
       "2. 11\n",
       "\n",
       "\n"
      ],
      "text/plain": [
       "[1] 5150   11"
      ]
     },
     "metadata": {},
     "output_type": "display_data"
    }
   ],
   "source": [
    "dim(words)"
   ]
  },
  {
   "cell_type": "code",
   "execution_count": 7,
   "metadata": {
    "collapsed": true
   },
   "outputs": [],
   "source": [
    "starting_sound <-\n",
    "  words %>%\n",
    "  mutate(start = str_extract(definition, \"^[a-zA-Z]\")) %>%\n",
    "  filter(!is.na(start))"
   ]
  },
  {
   "cell_type": "code",
   "execution_count": 8,
   "metadata": {},
   "outputs": [
    {
     "data": {
      "text/html": [
       "<ol class=list-inline>\n",
       "\t<li>3926</li>\n",
       "\t<li>12</li>\n",
       "</ol>\n"
      ],
      "text/latex": [
       "\\begin{enumerate*}\n",
       "\\item 3926\n",
       "\\item 12\n",
       "\\end{enumerate*}\n"
      ],
      "text/markdown": [
       "1. 3926\n",
       "2. 12\n",
       "\n",
       "\n"
      ],
      "text/plain": [
       "[1] 3926   12"
      ]
     },
     "metadata": {},
     "output_type": "display_data"
    }
   ],
   "source": [
    "dim(starting_sound)"
   ]
  },
  {
   "cell_type": "code",
   "execution_count": 9,
   "metadata": {},
   "outputs": [
    {
     "data": {
      "text/plain": [
       "\n",
       "  a   b   c   d   e   f   g   h   i   j   k   l   m   n   o   p   q   r   s   t \n",
       "186 397 246 200  77 154 180 169  60  52 205 150 236 122  92 306  13  95 423 288 \n",
       "  u   v   w   y   z \n",
       " 55 106  45  41  28 "
      ]
     },
     "metadata": {},
     "output_type": "display_data"
    }
   ],
   "source": [
    "start_freq <- table(starting_sound$start)\n",
    "start_freq"
   ]
  },
  {
   "cell_type": "code",
   "execution_count": 10,
   "metadata": {},
   "outputs": [
    {
     "data": {
      "text/plain": [
       "\n",
       "  s   b   p   t   c   m \n",
       "423 397 306 288 246 236 "
      ]
     },
     "metadata": {},
     "output_type": "display_data"
    }
   ],
   "source": [
    "head(sort(start_freq, decreasing = TRUE))"
   ]
  },
  {
   "cell_type": "markdown",
   "metadata": {},
   "source": [
    "# Histogram of Starting Sounds"
   ]
  },
  {
   "cell_type": "code",
   "execution_count": 11,
   "metadata": {},
   "outputs": [
    {
     "data": {
      "image/png": "[encoded data removed]",
      "text/plain": [
       "plot without title"
      ]
     },
     "metadata": {},
     "output_type": "display_data"
    }
   ],
   "source": [
    "barplot(as.vector(start_freq))"
   ]
  },
  {
   "cell_type": "markdown",
   "metadata": {},
   "source": [
    "Notice that words that start with p, b, or m are part of the top 6 most frequently acquired words by children."
   ]
  },
  {
   "cell_type": "markdown",
   "metadata": {},
   "source": [
    "# Plot 2"
   ]
  },
  {
   "cell_type": "code",
   "execution_count": 12,
   "metadata": {
    "collapsed": true
   },
   "outputs": [],
   "source": [
    "english_ws_admins <- get_administration_data(\"English (American)\", \"WS\")\n",
    "\n",
    "df <- get_instrument_data(language = \"English (American)\",\n",
    "                                   form = \"WS\",\n",
    "                                   administrations = english_ws_admins)"
   ]
  },
  {
   "cell_type": "code",
   "execution_count": 35,
   "metadata": {},
   "outputs": [],
   "source": [
    "start_produce <-\n",
    "  df %>%\n",
    "  select(num_item_id, value, age, language) %>%\n",
    "  filter(value == \"produces\") %>%\n",
    "  inner_join(starting_sound, by = \"num_item_id\") %>%\n",
    "  mutate(start = factor(start, letters))"
   ]
  },
  {
   "cell_type": "code",
   "execution_count": 39,
   "metadata": {},
   "outputs": [],
   "source": [
    "mean_age <-\n",
    "  start_produce %>%\n",
    "  group_by(start) %>%\n",
    "  summarize(mean = mean(age))"
   ]
  },
  {
   "cell_type": "markdown",
   "metadata": {},
   "source": [
    "There does not to be any relationship with average age of acquisition based solely on the starting sound of a word."
   ]
  },
  {
   "cell_type": "code",
   "execution_count": 53,
   "metadata": {},
   "outputs": [
    {
     "data": {
      "text/html": [
       "<table>\n",
       "<thead><tr><th scope=col>start</th><th scope=col>mean</th></tr></thead>\n",
       "<tbody>\n",
       "\t<tr><td>z       </td><td>24.58233</td></tr>\n",
       "\t<tr><td>q       </td><td>24.88203</td></tr>\n",
       "\t<tr><td>b       </td><td>24.88994</td></tr>\n",
       "\t<tr><td>m       </td><td>24.89724</td></tr>\n",
       "\t<tr><td>v       </td><td>24.91194</td></tr>\n",
       "\t<tr><td>n       </td><td>24.91305</td></tr>\n",
       "</tbody>\n",
       "</table>\n"
      ],
      "text/latex": [
       "\\begin{tabular}{r|ll}\n",
       " start & mean\\\\\n",
       "\\hline\n",
       "\t z        & 24.58233\\\\\n",
       "\t q        & 24.88203\\\\\n",
       "\t b        & 24.88994\\\\\n",
       "\t m        & 24.89724\\\\\n",
       "\t v        & 24.91194\\\\\n",
       "\t n        & 24.91305\\\\\n",
       "\\end{tabular}\n"
      ],
      "text/markdown": [
       "\n",
       "start | mean | \n",
       "|---|---|---|---|---|---|\n",
       "| z        | 24.58233 | \n",
       "| q        | 24.88203 | \n",
       "| b        | 24.88994 | \n",
       "| m        | 24.89724 | \n",
       "| v        | 24.91194 | \n",
       "| n        | 24.91305 | \n",
       "\n",
       "\n"
      ],
      "text/plain": [
       "  start mean    \n",
       "1 z     24.58233\n",
       "2 q     24.88203\n",
       "3 b     24.88994\n",
       "4 m     24.89724\n",
       "5 v     24.91194\n",
       "6 n     24.91305"
      ]
     },
     "metadata": {},
     "output_type": "display_data"
    }
   ],
   "source": [
    "head(arrange(mean_age, mean))"
   ]
  },
  {
   "cell_type": "code",
   "execution_count": 44,
   "metadata": {},
   "outputs": [
    {
     "data": {},
     "metadata": {},
     "output_type": "display_data"
    },
    {
     "data": {
      "image/png": "[encoded data removed]",
      "text/plain": [
       "plot without title"
      ]
     },
     "metadata": {},
     "output_type": "display_data"
    }
   ],
   "source": [
    "qplot(mean_age$start, mean_age$mean)"
   ]
  },
  {
   "cell_type": "code",
   "execution_count": null,
   "metadata": {
    "collapsed": true
   },
   "outputs": [],
   "source": []
  }
 ],
 "metadata": {
  "kernelspec": {
   "display_name": "R [conda env:wordbankr]",
   "language": "R",
   "name": "conda-env-wordbankr-r"
  },
  "language_info": {
   "codemirror_mode": "r",
   "file_extension": ".r",
   "mimetype": "text/x-r-source",
   "name": "R",
   "pygments_lexer": "r",
   "version": "3.4.2"
  }
 },
 "nbformat": 4,
 "nbformat_minor": 2
}
