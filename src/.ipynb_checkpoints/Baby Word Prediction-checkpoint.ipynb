{
 "cells": [
  {
   "cell_type": "markdown",
   "metadata": {},
   "source": [
    "## Install and load packages"
   ]
  },
  {
   "cell_type": "code",
   "execution_count": 33,
   "metadata": {},
   "outputs": [],
   "source": [
    "# install.packages(\"devtools\")\n",
    "# devtools::install_github(\"langcog/wordbankr\")\n",
    "library(\"dplyr\")\n",
    "library(\"wordbankr\")\n",
    "library(\"stringr\")\n",
    "library(\"ggplot2\")"
   ]
  },
  {
   "cell_type": "code",
   "execution_count": 36,
   "metadata": {},
   "outputs": [
    {
     "ename": "ERROR",
     "evalue": "Error in eval(lhs, parent, parent): argument \"language\" is missing, with no default\n",
     "output_type": "error",
     "traceback": [
      "Error in eval(lhs, parent, parent): argument \"language\" is missing, with no default\nTraceback:\n",
      "1. get_instrument_data(form = \"WS\")",
      "2. get_instrument_table(src, language, form)",
      "3. paste(c(\"instruments\", san_string(language), san_string(form)), \n .     collapse = \"_\")",
      "4. san_string(language)",
      "5. s %>% tolower() %>% stringr::str_replace_all(\"[[:punct:]]\", \"\") %>% \n .     stringr::str_split(\" \") %>% unlist()",
      "6. eval(lhs, parent, parent)",
      "7. eval(lhs, parent, parent)"
     ]
    }
   ],
   "source": [
    "admins <- \n",
    "  get_administration_data() %>%\n",
    "  select(data_id, age, language, form)\n",
    "\n",
    "english_ws_admins <- get_administration_data(\"English (American)\", \"WS\")\n",
    "\n",
    "items <- \n",
    "  get_item_data() %>%\n",
    "  mutate(num_item_id = as.numeric(substr(item_id, 6, nchar(item_id))),\n",
    "         definition = tolower(definition))\n",
    "\n",
    "words <- \n",
    "  items %>%\n",
    "  filter(type == \"word\", !is.na(uni_lemma), form == \"WG\")\n",
    "\n",
    "instrument <- get_instrument_data(language = \"English (American)\",\n",
    "                                   form = \"WS\",\n",
    "                                   administrations = english_ws_admins)"
   ]
  },
  {
   "cell_type": "code",
   "execution_count": 16,
   "metadata": {},
   "outputs": [
    {
     "data": {
      "text/html": [
       "<ol class=list-inline>\n",
       "\t<li>'Croatian'</li>\n",
       "\t<li>'German'</li>\n",
       "\t<li>'Russian'</li>\n",
       "\t<li>'Swedish'</li>\n",
       "\t<li>'Turkish'</li>\n",
       "\t<li>'Danish'</li>\n",
       "\t<li>'French (Quebec)'</li>\n",
       "\t<li>'English (American)'</li>\n",
       "\t<li>'Spanish'</li>\n",
       "\t<li>'Italian'</li>\n",
       "\t<li>'Norwegian'</li>\n",
       "\t<li>'Cantonese'</li>\n",
       "\t<li>'Mandarin'</li>\n",
       "\t<li>'Hebrew'</li>\n",
       "\t<li>'British Sign Language'</li>\n",
       "\t<li>'Slovak'</li>\n",
       "\t<li>'English (British)'</li>\n",
       "\t<li>'American Sign Language'</li>\n",
       "\t<li>'Cypriot Greek'</li>\n",
       "\t<li>'Kigiriama'</li>\n",
       "\t<li>'Kiswahili'</li>\n",
       "\t<li>'Czech'</li>\n",
       "\t<li>'English (Australian)'</li>\n",
       "\t<li>'Latvian'</li>\n",
       "\t<li>'Korean'</li>\n",
       "</ol>\n"
      ],
      "text/latex": [
       "\\begin{enumerate*}\n",
       "\\item 'Croatian'\n",
       "\\item 'German'\n",
       "\\item 'Russian'\n",
       "\\item 'Swedish'\n",
       "\\item 'Turkish'\n",
       "\\item 'Danish'\n",
       "\\item 'French (Quebec)'\n",
       "\\item 'English (American)'\n",
       "\\item 'Spanish'\n",
       "\\item 'Italian'\n",
       "\\item 'Norwegian'\n",
       "\\item 'Cantonese'\n",
       "\\item 'Mandarin'\n",
       "\\item 'Hebrew'\n",
       "\\item 'British Sign Language'\n",
       "\\item 'Slovak'\n",
       "\\item 'English (British)'\n",
       "\\item 'American Sign Language'\n",
       "\\item 'Cypriot Greek'\n",
       "\\item 'Kigiriama'\n",
       "\\item 'Kiswahili'\n",
       "\\item 'Czech'\n",
       "\\item 'English (Australian)'\n",
       "\\item 'Latvian'\n",
       "\\item 'Korean'\n",
       "\\end{enumerate*}\n"
      ],
      "text/markdown": [
       "1. 'Croatian'\n",
       "2. 'German'\n",
       "3. 'Russian'\n",
       "4. 'Swedish'\n",
       "5. 'Turkish'\n",
       "6. 'Danish'\n",
       "7. 'French (Quebec)'\n",
       "8. 'English (American)'\n",
       "9. 'Spanish'\n",
       "10. 'Italian'\n",
       "11. 'Norwegian'\n",
       "12. 'Cantonese'\n",
       "13. 'Mandarin'\n",
       "14. 'Hebrew'\n",
       "15. 'British Sign Language'\n",
       "16. 'Slovak'\n",
       "17. 'English (British)'\n",
       "18. 'American Sign Language'\n",
       "19. 'Cypriot Greek'\n",
       "20. 'Kigiriama'\n",
       "21. 'Kiswahili'\n",
       "22. 'Czech'\n",
       "23. 'English (Australian)'\n",
       "24. 'Latvian'\n",
       "25. 'Korean'\n",
       "\n",
       "\n"
      ],
      "text/plain": [
       " [1] \"Croatian\"               \"German\"                 \"Russian\"               \n",
       " [4] \"Swedish\"                \"Turkish\"                \"Danish\"                \n",
       " [7] \"French (Quebec)\"        \"English (American)\"     \"Spanish\"               \n",
       "[10] \"Italian\"                \"Norwegian\"              \"Cantonese\"             \n",
       "[13] \"Mandarin\"               \"Hebrew\"                 \"British Sign Language\" \n",
       "[16] \"Slovak\"                 \"English (British)\"      \"American Sign Language\"\n",
       "[19] \"Cypriot Greek\"          \"Kigiriama\"              \"Kiswahili\"             \n",
       "[22] \"Czech\"                  \"English (Australian)\"   \"Latvian\"               \n",
       "[25] \"Korean\"                "
      ]
     },
     "metadata": {},
     "output_type": "display_data"
    }
   ],
   "source": [
    "unique(items$language)"
   ]
  },
  {
   "cell_type": "code",
   "execution_count": 10,
   "metadata": {},
   "outputs": [
    {
     "data": {
      "text/html": [
       "<ol class=list-inline>\n",
       "\t<li>27387</li>\n",
       "\t<li>11</li>\n",
       "</ol>\n"
      ],
      "text/latex": [
       "\\begin{enumerate*}\n",
       "\\item 27387\n",
       "\\item 11\n",
       "\\end{enumerate*}\n"
      ],
      "text/markdown": [
       "1. 27387\n",
       "2. 11\n",
       "\n",
       "\n"
      ],
      "text/plain": [
       "[1] 27387    11"
      ]
     },
     "metadata": {},
     "output_type": "display_data"
    }
   ],
   "source": [
    "dim(items)"
   ]
  },
  {
   "cell_type": "code",
   "execution_count": 12,
   "metadata": {},
   "outputs": [
    {
     "data": {
      "text/html": [
       "<ol class=list-inline>\n",
       "\t<li>5150</li>\n",
       "\t<li>11</li>\n",
       "</ol>\n"
      ],
      "text/latex": [
       "\\begin{enumerate*}\n",
       "\\item 5150\n",
       "\\item 11\n",
       "\\end{enumerate*}\n"
      ],
      "text/markdown": [
       "1. 5150\n",
       "2. 11\n",
       "\n",
       "\n"
      ],
      "text/plain": [
       "[1] 5150   11"
      ]
     },
     "metadata": {},
     "output_type": "display_data"
    }
   ],
   "source": [
    "dim(words)"
   ]
  },
  {
   "cell_type": "code",
   "execution_count": 29,
   "metadata": {},
   "outputs": [],
   "source": [
    "starting_sound <-\n",
    "  words %>%\n",
    "  mutate(start = str_extract(definition, \"^[a-zA-Z]\")) %>%\n",
    "  filter(!is.na(start))"
   ]
  },
  {
   "cell_type": "code",
   "execution_count": 48,
   "metadata": {},
   "outputs": [
    {
     "data": {
      "text/html": [
       "<ol class=list-inline>\n",
       "\t<li>3939</li>\n",
       "\t<li>12</li>\n",
       "</ol>\n"
      ],
      "text/latex": [
       "\\begin{enumerate*}\n",
       "\\item 3939\n",
       "\\item 12\n",
       "\\end{enumerate*}\n"
      ],
      "text/markdown": [
       "1. 3939\n",
       "2. 12\n",
       "\n",
       "\n"
      ],
      "text/plain": [
       "[1] 3939   12"
      ]
     },
     "metadata": {},
     "output_type": "display_data"
    }
   ],
   "source": [
    "dim(starting_sound)"
   ]
  },
  {
   "cell_type": "code",
   "execution_count": 61,
   "metadata": {},
   "outputs": [
    {
     "data": {
      "text/plain": [
       "\n",
       "  a   b   c   d   e   f   g   h   i   j   k   l   m   n   o   p   q   r   s   t \n",
       "186 397 246 200  77 154 180 169  73  52 205 150 236 122  92 306  13  95 423 288 \n",
       "  u   v   w   y   z \n",
       " 55 106  45  41  28 "
      ]
     },
     "metadata": {},
     "output_type": "display_data"
    }
   ],
   "source": [
    "start_freq <- table(starting_sound$start)\n",
    "start_freq"
   ]
  },
  {
   "cell_type": "code",
   "execution_count": 66,
   "metadata": {},
   "outputs": [
    {
     "data": {
      "text/plain": [
       "\n",
       "  s   b   p   t   c   m \n",
       "423 397 306 288 246 236 "
      ]
     },
     "metadata": {},
     "output_type": "display_data"
    }
   ],
   "source": [
    "head(sort(start_freq, decreasing = TRUE))"
   ]
  },
  {
   "cell_type": "markdown",
   "metadata": {},
   "source": [
    "# Histogram of Starting Sounds"
   ]
  },
  {
   "cell_type": "code",
   "execution_count": 62,
   "metadata": {},
   "outputs": [
    {
     "data": {
      "image/png": "[encoded data removed]",
      "text/plain": [
       "plot without title"
      ]
     },
     "metadata": {},
     "output_type": "display_data"
    }
   ],
   "source": [
    "barplot(as.vector(start_freq))"
   ]
  },
  {
   "cell_type": "code",
   "execution_count": null,
   "metadata": {},
   "outputs": [],
   "source": []
  }
 ],
 "metadata": {
  "kernelspec": {
   "display_name": "R [conda env:wordr]",
   "language": "R",
   "name": "conda-env-wordr-r"
  },
  "language_info": {
   "codemirror_mode": "r",
   "file_extension": ".r",
   "mimetype": "text/x-r-source",
   "name": "R",
   "pygments_lexer": "r",
   "version": "3.4.2"
  }
 },
 "nbformat": 4,
 "nbformat_minor": 2
}
